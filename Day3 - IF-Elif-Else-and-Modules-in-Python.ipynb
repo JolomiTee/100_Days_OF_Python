{
 "cells": [
  {
   "cell_type": "markdown",
   "id": "4b679e9c",
   "metadata": {},
   "source": [
    "# If-Elif-Else\n",
    "In Python, you can use the if, elif (short for \"else if\"), and else statements to create conditional branches in your code. These statements allow you to execute different blocks of code based on certain conditions. Here's the basic syntax:"
   ]
  },
  {
   "cell_type": "code",
   "execution_count": 1,
   "id": "4cdbcda4",
   "metadata": {},
   "outputs": [],
   "source": [
    "#if water_is_hot(100deg):\n",
    "\t # off the gas\n",
    "#elif water is warm(90deg):\n",
    "\t # leave the gas on\n",
    "#elif water is warm(70deg):\n",
    "\t # leave the gas on\n",
    "#elif water is warm(50deg):\n",
    "\t # leave the gas on\n",
    "#else(0deg):\n",
    "\t # on the gas\n",
    "\n"
   ]
  },
  {
   "cell_type": "markdown",
   "id": "853eea93",
   "metadata": {},
   "source": [
    "Here's a breakdown of how these statements work:\n",
    "\n",
    "* if: This is the initial condition. If condition1 is true, the code block under if is executed, and the program exits the entire if-elif-else structure.\n",
    "\n",
    "* elif (optional): You can have multiple elif blocks to check for additional conditions if the previous if or elif conditions are false. If any elif condition is true, its corresponding code block is executed, and the program exits the structure.\n",
    "\n",
    "* else (optional): If none of the previous conditions (including the if and all elif conditions) is true, the code block under else is executed. It serves as the \"catch-all\" block when none of the conditions match."
   ]
  },
  {
   "cell_type": "code",
   "execution_count": 4,
   "id": "9c1e3419",
   "metadata": {},
   "outputs": [
    {
     "name": "stdout",
     "output_type": "stream",
     "text": [
      "x is greater than 5\n"
     ]
    }
   ],
   "source": [
    "# For Example\n",
    "x = 10\n",
    "\n",
    "if x < 6:\n",
    "\tprint(\"x is less than 5\")\n",
    "\n",
    "elif x == 5:\n",
    "\tprint(\"x is equal to 5\")\n",
    "\n",
    "else:\n",
    "\tprint(\"x is greater than 5\")\n"
   ]
  },
  {
   "cell_type": "markdown",
   "id": "015b45e7",
   "metadata": {},
   "source": [
    "In this example, if x is less than 5, the first block is executed. If x is exactly 5, the second block is executed. Otherwise, if x is greater than 5, the third block is executed."
   ]
  },
  {
   "cell_type": "code",
   "execution_count": 6,
   "id": "ec3eae04",
   "metadata": {},
   "outputs": [
    {
     "name": "stdout",
     "output_type": "stream",
     "text": [
      "shade\n"
     ]
    }
   ],
   "source": [
    "# We can use input function as well in same program\n",
    "x = input('Enter the number')\n",
    "\n",
    "# Convert x to an integer\n",
    "x = int(x)\n",
    "\n",
    "if x < 5:\n",
    "    print(\"x is less than 5\")\n",
    "elif x == 5:\n",
    "    print(\"x is equal to 5\")\n",
    "else:\n",
    "    print(\"x is greater than 5\")\n"
   ]
  },
  {
   "cell_type": "markdown",
   "id": "3ba5a2d7",
   "metadata": {},
   "source": [
    "### Example of If-else"
   ]
  },
  {
   "cell_type": "markdown",
   "id": "12136244",
   "metadata": {},
   "source": [
    "### login Program: \n",
    "* we have to build login program in one of the website where Input is email and password.\n",
    "* when input is correct then we have to give them access in our website\n",
    "* use if else for that\n",
    "\n",
    "email- kishor4@gmail.com\n",
    "password - 1234"
   ]
  },
  {
   "cell_type": "code",
   "execution_count": 8,
   "id": "fd2a373c",
   "metadata": {},
   "outputs": [
    {
     "name": "stdout",
     "output_type": "stream",
     "text": [
      "Welcome\n"
     ]
    }
   ],
   "source": [
    "# Simulated user data\n",
    "stored_email = \"shade@gmail.com\"\n",
    "stored_password = \"Odumodu13lavk\"\n",
    "\n",
    "# User input\n",
    "email = input('Enter email: ')\n",
    "password = input('Enter password: ')\n",
    "\n",
    "# Check if user input matches stored data\n",
    "if email == stored_email and password == stored_password:\n",
    "\t print('Welcome')\n",
    "else:\n",
    "\t print('wrong email or password')\n"
   ]
  },
  {
   "cell_type": "code",
   "execution_count": 12,
   "id": "8e165fbb",
   "metadata": {},
   "outputs": [
    {
     "name": "stdout",
     "output_type": "stream",
     "text": [
      "Incorrect Email\n",
      "welcome,finally\n"
     ]
    }
   ],
   "source": [
    "# If input is wrong so we have to give them once chance for coreect password\n",
    "# Simulated user data\n",
    "stored_email = \"kishor4@gmail.com\"\n",
    "stored_password = \"1234\"\n",
    "\n",
    "# User input\n",
    "email = input('Enter email: ')\n",
    "password = input('Enter password: ')\n",
    "\n",
    "# Check if user input matches stored data\n",
    "if email == stored_email and password == stored_password:\n",
    "\t print('Welcome')\n",
    "\n",
    "elif email == stored_email and password != stored_password:\n",
    "\tprint('Incorrect Password')\n",
    "\tpassword = input('Enter the password again')\n",
    "\tif password == stored_password:   # this is nested if else\n",
    "\t\tprint('welcome,finally')\n",
    "\n",
    "elif email != stored_email and password == stored_password:\n",
    "\tprint('Incorrect Email')\n",
    "\temail=input('Enter the email again')\n",
    "\tif email== stored_email:   # this is nested if else\n",
    "\t\t  print('welcome,finally')\n",
    "\n",
    "else:\n",
    "\t print('Authentication failed. Please check your email and password.')\n"
   ]
  },
  {
   "cell_type": "markdown",
   "id": "f9d394a1",
   "metadata": {},
   "source": [
    "## Nested If_ELSE\n",
    "Nested if-else statements in Python allow you to have one if-else statement inside another. This allows for more complex conditional logic, where you can test multiple conditions and execute different blocks of code based on those conditions. Here's the basic structure:"
   ]
  },
  {
   "cell_type": "raw",
   "id": "b112e278",
   "metadata": {
    "vscode": {
     "languageId": "raw"
    }
   },
   "source": [
    "# if condition1:\n",
    "\t # Code to execute if condition1 is True\n",
    "\t if nested_condition1:\n",
    "\t\t  # Code to execute if both condition1 and nested_condition1 are True\n",
    "\t else:\n",
    "\t\t  # Code to execute if condition1 is True but nested_condition1 is False\n",
    "else:\n",
    "\t # Code to execute if condition1 is False\n"
   ]
  },
  {
   "cell_type": "code",
   "execution_count": 14,
   "id": "5740420f",
   "metadata": {},
   "outputs": [
    {
     "name": "stdout",
     "output_type": "stream",
     "text": [
      "x is greater than 5\n",
      "y is also greater than 2\n"
     ]
    }
   ],
   "source": [
    "x = 10\n",
    "y = 5\n",
    "\n",
    "if x > 5:\n",
    "\t#start of do something\n",
    "\tprint(\"x is greater than 5\")\n",
    "\tif y > 2:\n",
    "\t\tprint(\"y is also greater than 2\")\n",
    "\telse:\n",
    "\t\tprint(\"y is not greater than 2\")\n",
    "\t#end of do something\n",
    "else:\n",
    "\tprint(\"x is not greater than 5\")\n",
    "\n",
    "\n"
   ]
  },
  {
   "cell_type": "markdown",
   "id": "8bc0e3a5",
   "metadata": {},
   "source": [
    "# Modules In Python"
   ]
  },
  {
   "cell_type": "markdown",
   "id": "24e5bae0",
   "metadata": {},
   "source": [
    "In Python, a module is a file containing Python code that can define functions, classes, and variables that can be reused in other Python scripts or programs. Modules are used to organize and encapsulate related code, making it easier to manage and maintain large codebases. Python provides a rich standard library with many built-in modules, and you can also create your own custom modules.\n",
    "we see some modules:\n",
    "1. Math module\n",
    "2. keywords\n",
    "3. random\n",
    "4. Dataetime , etc"
   ]
  },
  {
   "cell_type": "markdown",
   "id": "2c5fd92f",
   "metadata": {},
   "source": [
    "## 1. Math Module"
   ]
  },
  {
   "cell_type": "code",
   "execution_count": 10,
   "id": "7337fcbb",
   "metadata": {},
   "outputs": [
    {
     "data": {
      "text/plain": [
       "14.0"
      ]
     },
     "execution_count": 10,
     "metadata": {},
     "output_type": "execute_result"
    }
   ],
   "source": [
    "# math\n",
    "import math\n",
    "\n",
    "math.sqrt(196)"
   ]
  },
  {
   "cell_type": "markdown",
   "id": "fd7bc2f3",
   "metadata": {},
   "source": [
    "## 2. Keyword"
   ]
  },
  {
   "cell_type": "code",
   "execution_count": 11,
   "id": "df0a9282",
   "metadata": {},
   "outputs": [
    {
     "name": "stdout",
     "output_type": "stream",
     "text": [
      "['False', 'None', 'True', '__peg_parser__', 'and', 'as', 'assert', 'async', 'await', 'break', 'class', 'continue', 'def', 'del', 'elif', 'else', 'except', 'finally', 'for', 'from', 'global', 'if', 'import', 'in', 'is', 'lambda', 'nonlocal', 'not', 'or', 'pass', 'raise', 'return', 'try', 'while', 'with', 'yield']\n"
     ]
    }
   ],
   "source": [
    "import keyword\n",
    "print(keyword.kwlist) # this will give u all the keyword list"
   ]
  },
  {
   "cell_type": "markdown",
   "id": "604d1fd9",
   "metadata": {},
   "source": [
    "## 3. random"
   ]
  },
  {
   "cell_type": "code",
   "execution_count": 13,
   "id": "812d36ff",
   "metadata": {},
   "outputs": [
    {
     "name": "stdout",
     "output_type": "stream",
     "text": [
      "86\n"
     ]
    }
   ],
   "source": [
    "import random\n",
    "\n",
    "print(random.randint(1,100)) # it gives random number between 1 to 100 anyways when u run that code"
   ]
  },
  {
   "cell_type": "markdown",
   "id": "38c51d21",
   "metadata": {},
   "source": [
    "## 4. Datetime"
   ]
  },
  {
   "cell_type": "code",
   "execution_count": 16,
   "id": "b6412ae6",
   "metadata": {},
   "outputs": [
    {
     "name": "stdout",
     "output_type": "stream",
     "text": [
      "2024-10-07 00:17:22.601600\n"
     ]
    }
   ],
   "source": [
    "import datetime\n",
    "\n",
    "print(datetime.datetime.now()) # this code gives you current time"
   ]
  },
  {
   "cell_type": "markdown",
   "id": "e0430ef4",
   "metadata": {},
   "source": [
    "### If you want to see all modules present in python just write"
   ]
  },
  {
   "cell_type": "code",
   "execution_count": 15,
   "id": "0da6dced",
   "metadata": {},
   "outputs": [
    {
     "name": "stdout",
     "output_type": "stream",
     "text": [
      "\n",
      "Please wait a moment while I gather a list of all available modules...\n",
      "\n"
     ]
    },
    {
     "name": "stderr",
     "output_type": "stream",
     "text": [
      "libva info: VA-API version 1.14.0\n",
      "libva info: Trying to open /usr/lib/x86_64-linux-gnu/dri/iHD_drv_video.so\n",
      "libva info: Found init function __vaDriverInit_1_14\n",
      "libva info: va_openDriver() returns 0\n"
     ]
    },
    {
     "name": "stdout",
     "output_type": "stream",
     "text": [
      "AptUrl              apt                 icu                 requests\n",
      "CommandNotFound     apt_clone           idna                requests_file\n",
      "Cryptodome          apt_inst            ifaddr              resource\n",
      "IPython             apt_pkg             imaplib             rlcompleter\n",
      "NvidiaDetector      aptdaemon           imdb                runpy\n",
      "Onboard             aptsources          imghdr              samba\n",
      "PAM                 argparse            imp                 scanext\n",
      "PIL                 array               importlib           sched\n",
      "Quirks              ast                 importlib_metadata  secrets\n",
      "UbuntuDrivers       asttokens           inspect             secretstorage\n",
      "XappThumbnailers    async_timeout       io                  select\n",
      "Xlib                asynchat            ipaddress           selectors\n",
      "__future__          asyncio             ipykernel           setproctitle\n",
      "_abc                asyncore            ipykernel_launcher  setuptools\n",
      "_aix_support        atexit              itertools           shelve\n",
      "_ast                audioop             jedi                shlex\n",
      "_asyncio            base64              jeepney             shutil\n",
      "_bisect             bdb                 json                signal\n",
      "_blake2             binascii            jupyter             site\n",
      "_blueman            binhex              jupyter_client      sitecustomize\n",
      "_bootsubprocess     bisect              jupyter_core        six\n",
      "_brotli             blinker             jwt                 smtpd\n",
      "_bz2                blueman             keyring             smtplib\n",
      "_cffi_backend       brlapi              keyword             sndhdr\n",
      "_codecs             brotli              launchpadlib        socket\n",
      "_codecs_cn          bs4                 ldb                 socketserver\n",
      "_codecs_hk          builtins            lib2to3             soupsieve\n",
      "_codecs_iso2022     bz2                 linecache           speechd\n",
      "_codecs_jp          cProfile            locale              speechd_config\n",
      "_codecs_kr          cairo               logging             spwd\n",
      "_codecs_tw          calendar            louis               sqlite3\n",
      "_collections        caribou             lsb_release         sre_compile\n",
      "_collections_abc    certifi             lzma                sre_constants\n",
      "_compat_pickle      cgi                 macaroonbakery      sre_parse\n",
      "_compression        cgitb               magic               ssl\n",
      "_contextvars        chardet             mailbox             stack_data\n",
      "_crypt              chunk               mailcap             stat\n",
      "_csv                cinnamon            mako                statistics\n",
      "_ctypes             click               markupsafe          string\n",
      "_ctypes_test        cmath               marshal             stringprep\n",
      "_curses             cmd                 math                struct\n",
      "_curses_panel       code                matplotlib_inline   subprocess\n",
      "_datetime           codecs              mimetypes           sunau\n",
      "_dbm                codeop              mintcommon          symtable\n",
      "_dbus_bindings      collections         mintreport          sys\n",
      "_dbus_glib_bindings colorama            mmap                sysconfig\n",
      "_decimal            colorsys            modulefinder        syslog\n",
      "_distutils_hack     comm                more_itertools      systemd\n",
      "_distutils_system_mod compileall          multiprocessing     tabnanny\n",
      "_elementtree        concurrent          mutagen             talloc\n",
      "_functools          configobj           nacl                tarfile\n",
      "_gdbm               configparser        nest_asyncio        tdb\n",
      "_hashlib            contextlib          netaddr             telnetlib\n",
      "_heapq              contextvars         netifaces           tempfile\n",
      "_imp                copy                netrc               termios\n",
      "_io                 copyreg             nis                 test\n",
      "_json               crypt               nntplib             textwrap\n",
      "_ldb_text           cryptography        ntpath              this\n",
      "_locale             csv                 nturl2path          threading\n",
      "_lsprof             ctypes              numbers             time\n",
      "_lzma               cups                oauthlib            timeit\n",
      "_markupbase         cupsext             opcode              tinycss2\n",
      "_md5                cupshelpers         operator            tldextract\n",
      "_multibytecodec     curl                optparse            token\n",
      "_multiprocessing    curses              orca                tokenize\n",
      "_opcode             dataclasses         os                  tornado\n",
      "_operator           datetime            ossaudiodev         trace\n",
      "_osx_support        dateutil            packaging           traceback\n",
      "_ped                dbm                 parso               tracemalloc\n",
      "_pickle             dbus                parted              traitlets\n",
      "_posixshmem         deb822              pathlib             tty\n",
      "_posixsubprocess    debian              pcardext            turtle\n",
      "_py_abc             debian_bundle       pdb                 types\n",
      "_pydecimal          debugpy             pexpect             typing\n",
      "_pyio               decimal             pickle              typing_extensions\n",
      "_queue              decorator           pickletools         ufw\n",
      "_random             defer               pip                 unicodedata\n",
      "_sha1               difflib             pipes               unidecode\n",
      "_sha256             dis                 pkg_resources       unittest\n",
      "_sha3               distro              pkgutil             uno\n",
      "_sha512             distutils           platform            unohelper\n",
      "_signal             doctest             platformdirs        urllib\n",
      "_sitebuiltins       elftools            plistlib            urllib3\n",
      "_socket             email               poplib              uu\n",
      "_sqlite3            encodings           posix               uuid\n",
      "_sre                enum                posixpath           validate\n",
      "_ssl                errno               pprint              venv\n",
      "_stat               exceptiongroup      problem_report      wadllib\n",
      "_statistics         executing           profile             warnings\n",
      "_string             eyed3               prompt_toolkit      wave\n",
      "_strptime           faulthandler        pstats              wcwidth\n",
      "_struct             fcntl               psutil              weakref\n",
      "_symtable           filecmp             pty                 webbrowser\n",
      "_sysconfigdata__linux_x86_64-linux-gnu fileinput           ptyprocess          webencodings\n",
      "_sysconfigdata__x86_64-linux-gnu filelock            pure_eval           websockets\n",
      "_tdb_text           fnmatch             pwd                 wheel\n",
      "_testbuffer         fractions           py_compile          wsgiref\n",
      "_testcapi           ftplib              pyatspi             xapp\n",
      "_testclinic         functools           pyclbr              xattr\n",
      "_testimportmultiple gc                  pycurl              xdg\n",
      "_testinternalcapi   genericpath         pydoc               xdrlib\n",
      "_testmultiphase     getopt              pydoc_data          xkit\n",
      "_thread             getpass             pyexpat             xlrd\n",
      "_threading_local    gettext             pygments            xml\n",
      "_tracemalloc        gi                  pygtkcompat         xmlrpc\n",
      "_uuid               glob                pyinotify           xxlimited\n",
      "_version            gnupg               pymacaroons         xxlimited_35\n",
      "_warnings           graphlib            pyparsing           xxsubtype\n",
      "_weakref            grp                 pyrfc3339           yaml\n",
      "_weakrefset         grpc                pytz                yt_dlp\n",
      "_xxsubinterpreters  gyp                 qrcode              zipapp\n",
      "_xxtestfuzz         gzip                queue               zipfile\n",
      "_yaml               hashlib             quopri              zipimport\n",
      "_zoneinfo           heapq               random              zipp\n",
      "abc                 hmac                re                  zlib\n",
      "aifc                hpmudext            readline            zmq\n",
      "antigravity         html                redshift_gtk        zoneinfo\n",
      "apport              http                reportlab           \n",
      "apport_python_hook  httplib2            reprlib             \n",
      "\n",
      "Enter any module name to get more help.  Or, type \"modules spam\" to search\n",
      "for modules whose name or summary contain the string \"spam\".\n",
      "\n"
     ]
    }
   ],
   "source": [
    "help('modules') # run this code"
   ]
  },
  {
   "cell_type": "code",
   "execution_count": null,
   "id": "605452ac",
   "metadata": {},
   "outputs": [],
   "source": []
  }
 ],
 "metadata": {
  "kernelspec": {
   "display_name": "Python 3",
   "language": "python",
   "name": "python3"
  },
  "language_info": {
   "codemirror_mode": {
    "name": "ipython",
    "version": 3
   },
   "file_extension": ".py",
   "mimetype": "text/x-python",
   "name": "python",
   "nbconvert_exporter": "python",
   "pygments_lexer": "ipython3",
   "version": "3.10.12"
  }
 },
 "nbformat": 4,
 "nbformat_minor": 5
}
